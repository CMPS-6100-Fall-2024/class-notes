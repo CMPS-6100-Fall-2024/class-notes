{
 "cells": [
  {
   "cell_type": "markdown",
   "metadata": {},
   "source": [
    "# Data Structures"
   ]
  },
  {
   "cell_type": "markdown",
   "metadata": {},
   "source": [
    "A data structure is a way of storing and processing data.\n",
    "\n",
    "- lists\n",
    "- dictionaries\n",
    "- linked lists\n",
    "- trees\n",
    "- graphs\n",
    "\n",
    "Different data structures have different strengths and weaknesses (efficiencies) for inserting, removing, and accessing the data."
   ]
  },
  {
   "cell_type": "markdown",
   "metadata": {},
   "source": [
    "# Object Oriented Programming"
   ]
  },
  {
   "cell_type": "markdown",
   "metadata": {},
   "source": [
    "In object oriented program, we define **objects** which can interact with each other, and then we use those objects to implement our program.\n",
    "\n"
   ]
  },
  {
   "cell_type": "markdown",
   "metadata": {},
   "source": [
    "An **object** is a collection of related data (variables) along with associated fuctions"
   ]
  },
  {
   "cell_type": "code",
   "execution_count": 2,
   "metadata": {},
   "outputs": [
    {
     "name": "stdout",
     "output_type": "stream",
     "text": [
      "Aaron\n"
     ]
    }
   ],
   "source": [
    "name = \"aaron\"\n",
    "print(name.capitalize())\n"
   ]
  },
  {
   "cell_type": "markdown",
   "metadata": {},
   "source": [
    "## Defining our own objects\n",
    "\n",
    "We can define an object by implemending a **class**.\n",
    "\n",
    "A class is like a blueprint for objects.\n",
    "\n",
    "To define a class, we need to specify the data that belongs to the object and implement its associated functions as well.\n",
    "\n",
    "We specify the data that belongs to a class by implementing a **constructor**. The job of a constructor is to give initial values to all of the variables of this class.\n",
    "\n",
    "The design a class, we need to decide what data should be included in the class (e.g, represented by class variables) and what functions should belong to the class as well.\n"
   ]
  },
  {
   "cell_type": "markdown",
   "metadata": {},
   "source": [
    "\n",
    "To implement a game character (player or ghost) for the Ghost game:\n",
    "\n",
    "What data should be included?\n",
    "- health\n",
    "- current room\n",
    "- attack power\n",
    "\n",
    "What functions are needed? \n",
    "- move\n",
    "- takeDamage\n",
    "- attack"
   ]
  },
  {
   "cell_type": "code",
   "execution_count": 6,
   "metadata": {},
   "outputs": [
    {
     "name": "stdout",
     "output_type": "stream",
     "text": [
      "100\n",
      "90\n"
     ]
    }
   ],
   "source": [
    "class Character:\n",
    "    # the constructor\n",
    "    def __init__(self, health, current_room, attack_power):\n",
    "        self.health = health\n",
    "        self.current_room = current_room\n",
    "        self.attack_power = attack_power\n",
    "\n",
    "    def attack(self, other):\n",
    "        other.takeDamage(self.attack_power)\n",
    "\n",
    "    def takeDamage(self, damage):\n",
    "        self.health -= damage\n",
    "\n",
    "player = Character(100, 0, 10)\n",
    "ghost = Character(100, 13, 10)\n",
    "\n",
    "print(player.health)\n",
    "ghost.attack(player)\n",
    "print(player.health)"
   ]
  },
  {
   "cell_type": "markdown",
   "metadata": {},
   "source": [
    "## Linked List\n",
    "\n",
    "In a **linked list**, every element is stored in a node and all nodes are linked together in a linear chain:\n",
    "\n",
    "```\n",
    "[2] <-> [3] <-> [4] \n",
    "```\n",
    "\n",
    "A linked list contains references to the **head** node and the **tail** node. We access all other nodes by iterating from those two spots.\n",
    "\n"
   ]
  },
  {
   "cell_type": "code",
   "execution_count": null,
   "metadata": {},
   "outputs": [],
   "source": [
    "class Node:\n",
    "    def __init__(self, element):\n",
    "        self.element = element\n",
    "        self.prev = None\n",
    "        self.next = None\n",
    "\n",
    "class LinkedList:\n",
    "    def __init__(self):\n",
    "        self.head = None\n",
    "        self.tail = None\n",
    "\n",
    "    def add(self, element):\n",
    "        "
   ]
  }
 ],
 "metadata": {
  "kernelspec": {
   "display_name": "Python 3",
   "language": "python",
   "name": "python3"
  },
  "language_info": {
   "codemirror_mode": {
    "name": "ipython",
    "version": 3
   },
   "file_extension": ".py",
   "mimetype": "text/x-python",
   "name": "python",
   "nbconvert_exporter": "python",
   "pygments_lexer": "ipython3",
   "version": "3.9.6"
  }
 },
 "nbformat": 4,
 "nbformat_minor": 2
}
